{
 "cells": [
  {
   "cell_type": "markdown",
   "metadata": {},
   "source": [
    "# Rising up productivity of calculations using coordinate system transformation "
   ]
  },
  {
   "cell_type": "markdown",
   "metadata": {},
   "source": [
    "The article is to present easy way to speed up calculations including ray tracing stages. Such problems are very common in scientific researches based on modeling with gridded approach. Here I suggest to take a simplified forward seismic tomography problem.\n",
    "What we need is to calculate set of traveltimes from known sources to known recievers throuh known velocity model.\n",
    "\n",
    "Time from one source to one reciever is described by equation:\n",
    "$$t = \\sum_ {i}l_i c_i,$$\n",
    "where $l_i$ is length of ray in $i$ th cell, and $c_i$ is slowness (opposite to velocity) in this cell.\n",
    "\n",
    "To find out length of ray in model cell we have to trace it from start to finish and mark down all cells where ray appears. Here we make a simplification that the ray is straight line and all cells have rectange shape. \n",
    "\n",
    "Let's now go to coding not to lose logic line. "
   ]
  },
  {
   "cell_type": "code",
   "execution_count": 1,
   "metadata": {},
   "outputs": [],
   "source": [
    "import numpy as np\n",
    "import matplotlib.pyplot as plt\n",
    "from PIL import Image\n",
    "import requests\n",
    "from io import BytesIO\n",
    "import time"
   ]
  },
  {
   "cell_type": "code",
   "execution_count": 2,
   "metadata": {},
   "outputs": [],
   "source": [
    "#use some class just for fun\n",
    "class Source:\n",
    "    def __init__(self, x_crd, y_crd):\n",
    "        self.x = x_crd\n",
    "        self.y = y_crd\n",
    "class Reciever(Source):\n",
    "    pass"
   ]
  },
  {
   "cell_type": "code",
   "execution_count": 6,
   "metadata": {},
   "outputs": [
    {
     "data": {
      "text/plain": [
       "<matplotlib.image.AxesImage at 0x215da6832b0>"
      ]
     },
     "execution_count": 6,
     "metadata": {},
     "output_type": "execute_result"
    },
    {
     "data": {
      "image/png": "[encoded data removed]",
      "text/plain": [
       "<Figure size 432x288 with 1 Axes>"
      ]
     },
     "metadata": {
      "needs_background": "light"
     },
     "output_type": "display_data"
    }
   ],
   "source": [
    "#import any image to use it as a 2D velocity model\n",
    "response = requests.get('https://img1.freepng.ru/20180622/hgo/kisspng-whiskers-black-cat-domestic-short-haired-cat-sphyn-5b2d820011dcd9.4128472415297090560732.jpg')\n",
    "model = np.array(Image.open(BytesIO(response.content)))[:,:,1]\n",
    "\n",
    "\n",
    "model[model<=100] = 2\n",
    "model[model>100] = 1\n",
    "\n",
    "plt.imshow(model)"
   ]
  },
  {
   "cell_type": "code",
   "execution_count": 7,
   "metadata": {},
   "outputs": [],
   "source": [
    "#here we set gridlines according to shape of model\n",
    "x_lines = np.arange(np.shape(model)[1]+1)\n",
    "y_lines = np.arange(np.shape(model)[0]+1)\n",
    "\n",
    "dx = 1\n",
    "dy = 1\n",
    "\n",
    "ddy = 0.5\n",
    "\n",
    "#setting list of sources and recievers by the left and right edges of model \n",
    "src_list = []\n",
    "for i in range(0, len(y_lines)-1, 5):\n",
    "    src_list.append(Source(x_lines[0], y_lines[i]+ddy))\n",
    "\n",
    "rec_list = []\n",
    "for i in range(0, len(y_lines)-1, 5):\n",
    "    rec_list.append(Reciever(x_lines[-1], y_lines[i]+ddy))"
   ]
  },
  {
   "cell_type": "markdown",
   "metadata": {},
   "source": [
    "As if we suppose ray is straight and cells are rectangels, we can find all crosses of ray and gridlines using linear equation like $y = ax+b$. The result we can use as an input for calculating length of ray parts in each cell."
   ]
  },
  {
   "cell_type": "code",
   "execution_count": 8,
   "metadata": {},
   "outputs": [],
   "source": [
    "#defining function to return points where ray crosses gridlines\n",
    "def get_marker_points(start, fin, gridlines):\n",
    "\n",
    "    x_lin, y_lin = gridlines[0], gridlines[1]\n",
    "\n",
    "    k = (fin.y - start.y)/(fin.x-start.x)\n",
    "    \n",
    "    marker_points = []\n",
    "    \n",
    "    tmp_y = np.copy(start.y)\n",
    "    tmp_x = np.copy(start.x)\n",
    "    \n",
    "    for cy in y_lin:\n",
    "        dy = cy-tmp_y\n",
    "        dx = dy/k\n",
    "        tmp_x = tmp_x+dx\n",
    "        marker_points.append((tmp_x, cy))\n",
    "        tmp_y = cy\n",
    "    \n",
    "    tmp_y = np.copy(start.y)\n",
    "    tmp_x = np.copy(start.x)\n",
    "    for cx in x_lin:\n",
    "        dx = cx-tmp_x\n",
    "        dy = dx*k\n",
    "        tmp_y = tmp_y+dy\n",
    "        marker_points.append((cx, tmp_y))\n",
    "        tmp_x = cx\n",
    "        \n",
    "    mpoints = sorted(marker_points, key=lambda x: x[0])\n",
    "    \n",
    "    clear_points = []\n",
    "    clear_points.append(mpoints[0])\n",
    "    for i in range(1,len(mpoints)):\n",
    "        r = np.sqrt((mpoints[i][0]-mpoints[i-1][0])**2+(mpoints[i][1]-mpoints[i-1][1])**2)\n",
    "        if r>1e-5:\n",
    "            clear_points.append(mpoints[i])\n",
    "    \n",
    "    return clear_points"
   ]
  },
  {
   "cell_type": "code",
   "execution_count": 9,
   "metadata": {},
   "outputs": [],
   "source": [
    "#defining function to calculate distance between points where ray crosses gridlines\n",
    "def cell_length(pnts):\n",
    "    c_len = []\n",
    "    for i in range(len(pnts)-1):\n",
    "        r = np.sqrt((pnts[i][0]-pnts[i+1][0])**2+(pnts[i][1]-pnts[i+1][1])**2)\n",
    "        # if r>1e-5:\n",
    "        c_len.append(r)\n",
    "    return c_len"
   ]
  },
  {
   "cell_type": "markdown",
   "metadata": {},
   "source": [
    "Now, lets think how can we find indexes of cell, which we need to use in first equation to get slowness of model in needed cell. The most trivial solution is to take middle points of ray parts (between crossings of grid lines) and find the cell, that suit conditions: $c_{l}<=x_{mid}<=c_{r}$ and $c_{lw}<=y_{mid}<=c_{up}$, which means that middle coordinate of ray part is inside (or on) the cell borders. Let's see how function returning indexes by that logic will be look like.  "
   ]
  },
  {
   "cell_type": "code",
   "execution_count": 10,
   "metadata": {},
   "outputs": [],
   "source": [
    "def get_cell_ind(pnts, full_gridlines):\n",
    "    \n",
    "    xgrd, ygrd = full_gridlines[0], full_gridlines[1]\n",
    "    \n",
    "    mid_points = []\n",
    "    for i in range(0,len(pnts)-1):\n",
    "        hx = pnts[i][0]+(pnts[i+1][0]-pnts[i][0])/2\n",
    "        hy = pnts[i][1]+(pnts[i+1][1]-pnts[i][1])/2\n",
    "        \n",
    "        mid_points.append((hx,hy))\n",
    "        \n",
    "    lx_ind = []\n",
    "    ly_ind = []\n",
    "    \n",
    "    for mp in mid_points:\n",
    "        for ix in range(len(xgrd)):\n",
    "            if xgrd[ix]<mp[0]<xgrd[ix+1]:\n",
    "                x_ind = ix\n",
    "                break\n",
    "        for iy in range(len(ygrd)):\n",
    "            if ygrd[iy]<mp[1]<ygrd[iy+1]:\n",
    "                y_ind = iy\n",
    "                break\n",
    "        ly_ind.append(y_ind)\n",
    "        lx_ind.append(x_ind)\n",
    "    \n",
    "    cell_ind = (ly_ind, lx_ind)\n",
    "    \n",
    "    return cell_ind"
   ]
  },
  {
   "cell_type": "markdown",
   "metadata": {},
   "source": [
    "The function looks very easy and logical, but not very productive - several input loops and a few 'if' conditions. What if we transform our substance and use some abstractions instead of operating physical values. Lets's change our coordinate system and use unit legth based on cell size instead of its physical shape. Then we got a situation, where cell index is encoded in ray part coordinates, after we transform them. So, we run out of need to use any 'if' conditions and loop. All we need is just to decode coordinates (mid points) of ray part to int format and use them as cell indexes."
   ]
  },
  {
   "cell_type": "code",
   "execution_count": 11,
   "metadata": {},
   "outputs": [],
   "source": [
    "def get_cell_ind_new(pnts, full_gridlines):\n",
    "    \n",
    "    dx = full_gridlines[0][1]-full_gridlines[0][0]\n",
    "    dy = full_gridlines[1][1]-full_gridlines[1][0]\n",
    "    \n",
    "    x0 = full_gridlines[0][0]\n",
    "    y0 = full_gridlines[1][0]\n",
    "    \n",
    "    cell_pnts = np.array(pnts)\n",
    "    cell_pnts[:,0] = (cell_pnts[:,0]-x0)/dx\n",
    "    cell_pnts[:,1] = (cell_pnts[:,1]-y0)/dy\n",
    "    \n",
    "    mid_points = np.zeros((len(pnts)-1,2))\n",
    "    for i in range(0,len(pnts)-1):\n",
    "        hx = cell_pnts[i,0]+(cell_pnts[i+1,0]-cell_pnts[i,0])/2\n",
    "        hy = cell_pnts[i,1]+(cell_pnts[i+1,1]-cell_pnts[i,1])/2\n",
    "        \n",
    "        mid_points[i,1] = hx        \n",
    "        mid_points[i,0] = hy\n",
    "\n",
    "    inds = (np.array(mid_points[:,0], dtype = int) ,np.array(mid_points[:,1], dtype = int))\n",
    "    \n",
    "    return inds"
   ]
  },
  {
   "cell_type": "markdown",
   "metadata": {},
   "source": [
    "Lets's define a function that count traveltime and compare both approaches."
   ]
  },
  {
   "cell_type": "code",
   "execution_count": 34,
   "metadata": {},
   "outputs": [],
   "source": [
    "def count_time(v_model, r_length, ind_list):\n",
    "    \n",
    "    slow_model = 1/v_model[ind_list]\n",
    "    \n",
    "    time = np.sum(slow_model*r_length)\n",
    "    \n",
    "    return time"
   ]
  },
  {
   "cell_type": "code",
   "execution_count": 35,
   "metadata": {},
   "outputs": [],
   "source": [
    "#Here we set two lists for counted traveltime for both cases, just to check we have same calculation result\n",
    "t_vector_1 = [] #for loop and if function\n",
    "t_vector_2 = [] #for swap system coordinate function"
   ]
  },
  {
   "cell_type": "code",
   "execution_count": 36,
   "metadata": {},
   "outputs": [
    {
     "name": "stdout",
     "output_type": "stream",
     "text": [
      "0/52\n",
      "1/52\n",
      "2/52\n",
      "3/52\n",
      "4/52\n",
      "5/52\n",
      "6/52\n",
      "7/52\n",
      "8/52\n",
      "9/52\n",
      "10/52\n",
      "11/52\n",
      "12/52\n",
      "13/52\n",
      "14/52\n",
      "15/52\n",
      "16/52\n",
      "17/52\n",
      "18/52\n",
      "19/52\n",
      "20/52\n",
      "21/52\n",
      "22/52\n",
      "23/52\n",
      "24/52\n",
      "25/52\n",
      "26/52\n",
      "27/52\n",
      "28/52\n",
      "29/52\n",
      "30/52\n",
      "31/52\n",
      "32/52\n",
      "33/52\n",
      "34/52\n",
      "35/52\n",
      "36/52\n",
      "37/52\n",
      "38/52\n",
      "39/52\n",
      "40/52\n",
      "41/52\n",
      "42/52\n",
      "43/52\n",
      "44/52\n",
      "45/52\n",
      "46/52\n",
      "47/52\n",
      "48/52\n",
      "49/52\n",
      "50/52\n",
      "51/52\n"
     ]
    }
   ],
   "source": [
    "#counting traveltime and estimating required time\n",
    "time_start = time.time()\n",
    "\n",
    "full_gridlines = (x_lines, y_lines)\n",
    "for i, src in enumerate(src_list):\n",
    "    print(str(i)+'/'+str(len(src_list)))\n",
    "    for j, rec in enumerate(rec_list):\n",
    "                \n",
    "        ymin = np.min([src.y, rec.y])\n",
    "        ymax = np.max([src.y, rec.y])\n",
    "        \n",
    "        xmin = np.min([src.x, rec.x])\n",
    "        xmax = np.max([src.x, rec.x])\n",
    "        \n",
    "        y_lin = y_lines[(y_lines<=ymax) & (y_lines>=ymin)]\n",
    "        x_lin = x_lines[(x_lines<=xmax) & (x_lines>=xmin)]\n",
    "        \n",
    "        points = get_marker_points(src, rec, (x_lin, y_lin))\n",
    "        vec_len = cell_length(points)\n",
    "        \n",
    "        #ind_list = get_cell_ind_new(points, full_gridlines)\n",
    "        ind_list = get_cell_ind(points, full_gridlines)\n",
    "        \n",
    "        c_times = count_time(model, vec_len, ind_list)\n",
    "        t_vector_1.append(c_times)\n",
    "        \n",
    "\n",
    "time_exp = time.time() - time_start  "
   ]
  },
  {
   "cell_type": "code",
   "execution_count": 37,
   "metadata": {},
   "outputs": [
    {
     "data": {
      "text/plain": [
       "458.7626633644104"
      ]
     },
     "execution_count": 37,
     "metadata": {},
     "output_type": "execute_result"
    }
   ],
   "source": [
    "time_exp"
   ]
  },
  {
   "cell_type": "markdown",
   "metadata": {},
   "source": [
    "On a laptop with Intel i7 time for first approach is 458 sec, which is quiete expensive. Let's see results with a second one."
   ]
  },
  {
   "cell_type": "code",
   "execution_count": 38,
   "metadata": {},
   "outputs": [
    {
     "name": "stdout",
     "output_type": "stream",
     "text": [
      "0/52\n",
      "1/52\n",
      "2/52\n",
      "3/52\n",
      "4/52\n",
      "5/52\n",
      "6/52\n",
      "7/52\n",
      "8/52\n",
      "9/52\n",
      "10/52\n",
      "11/52\n",
      "12/52\n",
      "13/52\n",
      "14/52\n",
      "15/52\n",
      "16/52\n",
      "17/52\n",
      "18/52\n",
      "19/52\n",
      "20/52\n",
      "21/52\n",
      "22/52\n",
      "23/52\n",
      "24/52\n",
      "25/52\n",
      "26/52\n",
      "27/52\n",
      "28/52\n",
      "29/52\n",
      "30/52\n",
      "31/52\n",
      "32/52\n",
      "33/52\n",
      "34/52\n",
      "35/52\n",
      "36/52\n",
      "37/52\n",
      "38/52\n",
      "39/52\n",
      "40/52\n",
      "41/52\n",
      "42/52\n",
      "43/52\n",
      "44/52\n",
      "45/52\n",
      "46/52\n",
      "47/52\n",
      "48/52\n",
      "49/52\n",
      "50/52\n",
      "51/52\n"
     ]
    }
   ],
   "source": [
    "time_start = time.time()\n",
    "\n",
    "full_gridlines = (x_lines, y_lines)\n",
    "for i, src in enumerate(src_list):\n",
    "    print(str(i)+'/'+str(len(src_list)))\n",
    "    for j, rec in enumerate(rec_list):\n",
    "                \n",
    "        ymin = np.min([src.y, rec.y])\n",
    "        ymax = np.max([src.y, rec.y])\n",
    "        \n",
    "        xmin = np.min([src.x, rec.x])\n",
    "        xmax = np.max([src.x, rec.x])\n",
    "        \n",
    "        y_lin = y_lines[(y_lines<=ymax) & (y_lines>=ymin)]\n",
    "        x_lin = x_lines[(x_lines<=xmax) & (x_lines>=xmin)]\n",
    "        \n",
    "        points = get_marker_points(src, rec, (x_lin, y_lin))\n",
    "        vec_len = cell_length(points)\n",
    "        \n",
    "        ind_list = get_cell_ind_new(points, full_gridlines)\n",
    "        #ind_list = get_cell_ind(points, full_gridlines)\n",
    "        \n",
    "        c_times = count_time(model, vec_len, ind_list)\n",
    "        t_vector_2.append(c_times)\n",
    "        \n",
    "\n",
    "time_exp = time.time() - time_start  "
   ]
  },
  {
   "cell_type": "code",
   "execution_count": 39,
   "metadata": {},
   "outputs": [
    {
     "data": {
      "text/plain": [
       "13.51807165145874"
      ]
     },
     "execution_count": 39,
     "metadata": {},
     "output_type": "execute_result"
    }
   ],
   "source": [
    "time_exp"
   ]
  },
  {
   "cell_type": "markdown",
   "metadata": {},
   "source": [
    "The second approach took only 13 seconds to the same calculation! It is 35 times faster. what we have to do is to check, that all calculations give the same result."
   ]
  },
  {
   "cell_type": "code",
   "execution_count": 42,
   "metadata": {},
   "outputs": [
    {
     "data": {
      "text/plain": [
       "[<matplotlib.lines.Line2D at 0x1ddd8ae4bc8>]"
      ]
     },
     "execution_count": 42,
     "metadata": {},
     "output_type": "execute_result"
    },
    {
     "data": {
      "image/png": "[encoded data removed]",
      "text/plain": [
       "<Figure size 432x288 with 1 Axes>"
      ]
     },
     "metadata": {
      "needs_background": "light"
     },
     "output_type": "display_data"
    }
   ],
   "source": [
    "diff = np.array(t_vector_2)-np.array(t_vector_1)\n",
    "er = np.sum(diff)\n",
    "plt.plot(diff)"
   ]
  },
  {
   "cell_type": "markdown",
   "metadata": {},
   "source": [
    "Here we can see that results are the same.\n",
    "\n",
    "In this notebook we showed that problems dealing with medium properties depending on coordinate, such as seismic \n",
    "tomography, could be speed up to several times by simple abstraction, such as transformation of coordinate system. \n",
    "The rising of productivity is the more significant the more complicated calculations are.   \n",
    "\n",
    "Traveltime for a cat model as a bonus."
   ]
  },
  {
   "cell_type": "code",
   "execution_count": 50,
   "metadata": {},
   "outputs": [
    {
     "data": {
      "image/png": "[encoded data removed]",
      "text/plain": [
       "<Figure size 432x288 with 2 Axes>"
      ]
     },
     "metadata": {
      "needs_background": "light"
     },
     "output_type": "display_data"
    }
   ],
   "source": [
    "fig, ax = plt.subplots(2,1)\n",
    "ext = [0,np.shape(model)[1], 0,np.shape(model)[0]]\n",
    "ax[0].imshow(model, extent = ext)\n",
    "ax[0].set_xlabel('X coordinate')\n",
    "ax[0].set_ylabel('Y coordinate')\n",
    "\n",
    "ax[1].plot(t_vector_1)\n",
    "ax[1].set_xlabel('Src-Rec pair')\n",
    "ax[1].set_ylabel('Traveltime')\n",
    "\n",
    "fig.tight_layout() "
   ]
  },
  {
   "cell_type": "code",
   "execution_count": null,
   "metadata": {},
   "outputs": [],
   "source": []
  }
 ],
 "metadata": {
  "kernelspec": {
   "display_name": "Python 3",
   "language": "python",
   "name": "python3"
  },
  "language_info": {
   "codemirror_mode": {
    "name": "ipython",
    "version": 3
   },
   "file_extension": ".py",
   "mimetype": "text/x-python",
   "name": "python",
   "nbconvert_exporter": "python",
   "pygments_lexer": "ipython3",
   "version": "3.8.5"
  }
 },
 "nbformat": 4,
 "nbformat_minor": 4
}
